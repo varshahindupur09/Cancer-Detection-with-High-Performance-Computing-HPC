{
 "cells": [
  {
   "cell_type": "code",
   "execution_count": 8,
   "id": "b8e88e4b-5056-4015-8782-a489d74b99f1",
   "metadata": {},
   "outputs": [
    {
     "name": "stdout",
     "output_type": "stream",
     "text": [
      "Defaulting to user installation because normal site-packages is not writeable\n",
      "Requirement already satisfied: dask in /shared/centos7/anaconda3/2021.05/lib/python3.8/site-packages (2021.4.0)\n",
      "Collecting dask-image\n",
      "  Downloading dask_image-2023.3.0-py2.py3-none-any.whl (41 kB)\n",
      "\u001b[K     |████████████████████████████████| 41 kB 104 kB/s eta 0:00:011\n",
      "\u001b[?25hRequirement already satisfied: cloudpickle>=1.1.1 in /shared/centos7/anaconda3/2021.05/lib/python3.8/site-packages (from dask) (1.6.0)\n",
      "Requirement already satisfied: toolz>=0.8.2 in /shared/centos7/anaconda3/2021.05/lib/python3.8/site-packages (from dask) (0.11.1)\n",
      "Requirement already satisfied: fsspec>=0.6.0 in /shared/centos7/anaconda3/2021.05/lib/python3.8/site-packages (from dask) (0.9.0)\n",
      "Requirement already satisfied: partd>=0.3.10 in /shared/centos7/anaconda3/2021.05/lib/python3.8/site-packages (from dask) (1.2.0)\n",
      "Requirement already satisfied: pyyaml in /shared/centos7/anaconda3/2021.05/lib/python3.8/site-packages (from dask) (5.4.1)\n",
      "Requirement already satisfied: locket in /shared/centos7/anaconda3/2021.05/lib/python3.8/site-packages/locket-0.2.1-py3.8.egg (from partd>=0.3.10->dask) (0.2.1)\n",
      "Requirement already satisfied: scipy>=0.19.1 in /shared/centos7/anaconda3/2021.05/lib/python3.8/site-packages (from dask-image) (1.6.2)\n",
      "Collecting pims>=0.4.1\n",
      "  Downloading PIMS-0.6.1.tar.gz (86 kB)\n",
      "\u001b[K     |████████████████████████████████| 86 kB 1.2 MB/s eta 0:00:011\n",
      "\u001b[?25hRequirement already satisfied: numpy>=1.11.3 in /shared/centos7/anaconda3/2021.05/lib/python3.8/site-packages (from dask-image) (1.20.1)\n",
      "Collecting dask[array]>=2021.10.0\n",
      "  Downloading dask-2023.5.0-py3-none-any.whl (1.2 MB)\n",
      "\u001b[K     |████████████████████████████████| 1.2 MB 35.4 MB/s eta 0:00:01\n",
      "\u001b[?25hRequirement already satisfied: tifffile>=2018.10.18 in /shared/centos7/anaconda3/2021.05/lib/python3.8/site-packages (from dask-image) (2020.10.1)\n",
      "Requirement already satisfied: packaging>=20.0 in /shared/centos7/anaconda3/2021.05/lib/python3.8/site-packages (from dask[array]>=2021.10.0->dask-image) (20.9)\n",
      "Collecting click>=8.0\n",
      "  Downloading click-8.1.7-py3-none-any.whl (97 kB)\n",
      "\u001b[K     |████████████████████████████████| 97 kB 3.4 MB/s  eta 0:00:01\n",
      "\u001b[?25hRequirement already satisfied: importlib-metadata>=4.13.0 in /home/hindupur.v/.local/lib/python3.8/site-packages (from dask[array]>=2021.10.0->dask-image) (6.1.0)\n",
      "Collecting fsspec>=0.6.0\n",
      "  Downloading fsspec-2024.3.1-py3-none-any.whl (171 kB)\n",
      "\u001b[K     |████████████████████████████████| 171 kB 41.4 MB/s eta 0:00:01\n",
      "\u001b[?25hCollecting numpy>=1.11.3\n",
      "  Downloading numpy-1.24.4-cp38-cp38-manylinux_2_17_x86_64.manylinux2014_x86_64.whl (17.3 MB)\n",
      "\u001b[K     |████████████████████████████████| 17.3 MB 78.5 MB/s eta 0:00:01\n",
      "\u001b[?25hRequirement already satisfied: zipp>=0.5 in /shared/centos7/anaconda3/2021.05/lib/python3.8/site-packages (from importlib-metadata>=4.13.0->dask[array]>=2021.10.0->dask-image) (3.4.1)\n",
      "Requirement already satisfied: pyparsing>=2.0.2 in /shared/centos7/anaconda3/2021.05/lib/python3.8/site-packages (from packaging>=20.0->dask[array]>=2021.10.0->dask-image) (2.4.7)\n",
      "Requirement already satisfied: imageio in /shared/centos7/anaconda3/2021.05/lib/python3.8/site-packages (from pims>=0.4.1->dask-image) (2.9.0)\n",
      "Collecting slicerator>=0.9.8\n",
      "  Downloading slicerator-1.1.0-py3-none-any.whl (10 kB)\n",
      "Collecting numpy>=1.11.3\n",
      "  Downloading numpy-1.22.4-cp38-cp38-manylinux_2_17_x86_64.manylinux2014_x86_64.whl (16.9 MB)\n",
      "\u001b[K     |████████████████████████████████| 16.9 MB 39.9 MB/s eta 0:00:01\n",
      "\u001b[?25hRequirement already satisfied: pillow in /shared/centos7/anaconda3/2021.05/lib/python3.8/site-packages (from imageio->pims>=0.4.1->dask-image) (8.2.0)\n",
      "Building wheels for collected packages: pims\n",
      "  Building wheel for pims (setup.py) ... \u001b[?25ldone\n",
      "\u001b[?25h  Created wheel for pims: filename=PIMS-0.6.1-py3-none-any.whl size=82636 sha256=55d8bcf76163e394a734d459bf03d207e9af512cad59a1dcdd85233a8761a84d\n",
      "  Stored in directory: /home/hindupur.v/.cache/pip/wheels/5c/bd/a9/9cede777cb4fcdd2ba712cdb0d0c9082aba544322eb5ad7af1\n",
      "Successfully built pims\n",
      "Installing collected packages: numpy, fsspec, click, slicerator, dask, pims, dask-image\n",
      "\u001b[31mERROR: pip's dependency resolver does not currently take into account all the packages that are installed. This behaviour is the source of the following dependency conflicts.\n",
      "tensorflow 2.11.1 requires absl-py>=1.0.0, which is not installed.\n",
      "tensorboard 2.11.2 requires absl-py>=0.4, which is not installed.\n",
      "retina-face 0.0.13 requires opencv-python>=3.4.4, which is not installed.\n",
      "deepface 0.0.79 requires opencv-python>=4.5.5.64, which is not installed.\u001b[0m\n",
      "Successfully installed click-8.1.7 dask-2023.5.0 dask-image-2023.3.0 fsspec-2024.3.1 numpy-1.22.4 pims-0.6.1 slicerator-1.1.0\n",
      "Note: you may need to restart the kernel to use updated packages.\n"
     ]
    }
   ],
   "source": [
    "pip install dask dask-image\n"
   ]
  },
  {
   "cell_type": "code",
   "execution_count": 11,
   "id": "0d1af630-040a-4b47-ad66-a5bc99b54132",
   "metadata": {},
   "outputs": [],
   "source": [
    "import dask.array\n",
    "# from dask import delayed\n",
    "from dask_image.imread import imread\n",
    "import os"
   ]
  },
  {
   "cell_type": "code",
   "execution_count": 12,
   "id": "6d682b20-922a-4619-9aa6-2ea06047e4c3",
   "metadata": {},
   "outputs": [],
   "source": [
    "directory_path = '/home/hindupur.v/varsha_hpp/dataset/lung_colon_image_set'"
   ]
  },
  {
   "cell_type": "code",
   "execution_count": null,
   "id": "c6f312e4-a3ae-4c8b-ad7e-256cc0e7c5ef",
   "metadata": {},
   "outputs": [],
   "source": [
    "filenames = [os.]"
   ]
  }
 ],
 "metadata": {
  "kernelspec": {
   "display_name": "Python 3",
   "language": "python",
   "name": "python3"
  },
  "language_info": {
   "codemirror_mode": {
    "name": "ipython",
    "version": 3
   },
   "file_extension": ".py",
   "mimetype": "text/x-python",
   "name": "python",
   "nbconvert_exporter": "python",
   "pygments_lexer": "ipython3",
   "version": "3.8.8"
  }
 },
 "nbformat": 4,
 "nbformat_minor": 5
}
