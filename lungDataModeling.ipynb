{
 "cells": [
  {
   "cell_type": "code",
   "execution_count": 1,
   "id": "8fcf2616-be32-49f7-9026-75218c44da64",
   "metadata": {},
   "outputs": [],
   "source": [
    "dataset_path = '/home/hindupur.v/varsha_hpp/dataset/data'"
   ]
  },
  {
   "cell_type": "code",
   "execution_count": 2,
   "id": "5ca6444c-4658-4262-b599-6d1c26640a9f",
   "metadata": {},
   "outputs": [],
   "source": [
    "import os\n",
    "import torch\n",
    "import torch.nn as nn\n",
    "import torch.nn.functional as F\n",
    "from torch.utils.data import DataLoader, Dataset\n",
    "from torchvision import transforms\n",
    "from torchvision.datasets import ImageFolder\n",
    "import torch.optim as optim\n",
    "from sklearn.model_selection import train_test_split\n",
    "from PIL import Image\n",
    "import numpy as np\n",
    "import pandas as pd"
   ]
  },
  {
   "cell_type": "code",
   "execution_count": 3,
   "id": "7e39c4f3-6bda-443b-b214-cee11160c79d",
   "metadata": {},
   "outputs": [],
   "source": [
    "data_dir = '/home/hindupur.v/varsha_hpp/dataset/data'\n",
    "\n",
    "# Preparing DataFrame\n",
    "filepaths = []\n",
    "labels = []\n",
    "label_dict = {'lung_aca': 0, 'lung_n': 1, 'lung_scc': 2}  # Assuming these are the only folders for lung dataset\n",
    "\n",
    "for folder in ['lung_aca', 'lung_n', 'lung_scc']:  # Loop only through lung related folders\n",
    "    folder_path = os.path.join(data_dir, folder)\n",
    "    for filename in os.listdir(folder_path):\n",
    "        if filename.endswith('.jpeg'):  # Filter only jpeg images\n",
    "            filepaths.append(os.path.join(folder_path, filename))\n",
    "            labels.append(label_dict[folder])\n",
    "\n",
    "df = pd.DataFrame({'filepath': filepaths, 'label': labels})"
   ]
  },
  {
   "cell_type": "code",
   "execution_count": 4,
   "id": "e48a1f8a-1e51-41e6-8ead-a338323fe08a",
   "metadata": {},
   "outputs": [
    {
     "data": {
      "text/plain": [
       "(15000, 2)"
      ]
     },
     "execution_count": 4,
     "metadata": {},
     "output_type": "execute_result"
    }
   ],
   "source": [
    "df.shape"
   ]
  },
  {
   "cell_type": "code",
   "execution_count": 5,
   "id": "5696349c-2f3b-40ef-80ff-3f98fc258b64",
   "metadata": {},
   "outputs": [],
   "source": [
    "# Splitting the dataset\n",
    "train_df, test_df = train_test_split(df, test_size=0.2, random_state=42)\n",
    "train_df, valid_df = train_test_split(train_df, test_size=0.25, random_state=42)  # 0.25 x 0.8 = 0.2"
   ]
  },
  {
   "cell_type": "code",
   "execution_count": 6,
   "id": "fa1e700d-36cb-4c77-abec-df96f4625d3b",
   "metadata": {},
   "outputs": [],
   "source": [
    "class LungDataset(Dataset):\n",
    "    def __init__(self, dataframe, transform=None):\n",
    "        self.dataframe = dataframe\n",
    "        self.transform = transform\n",
    "\n",
    "    def __len__(self):\n",
    "        return len(self.dataframe)\n",
    "\n",
    "    def __getitem__(self, idx):\n",
    "        img_path = self.dataframe.iloc[idx, 0]\n",
    "        image = Image.open(img_path).convert('RGB')\n",
    "        label = self.dataframe.iloc[idx, 1]\n",
    "        \n",
    "        if self.transform:\n",
    "            image = self.transform(image)\n",
    "            \n",
    "        return image, label"
   ]
  },
  {
   "cell_type": "code",
   "execution_count": 7,
   "id": "7ba7564f-85fa-4e56-8b86-6c9ea11fbb29",
   "metadata": {},
   "outputs": [],
   "source": [
    "# Transformations\n",
    "transform = transforms.Compose([\n",
    "    transforms.Resize((224, 224)),\n",
    "    transforms.ToTensor(),\n",
    "    transforms.Normalize(mean=[0.485, 0.456, 0.406], std=[0.229, 0.224, 0.225]),\n",
    "])"
   ]
  },
  {
   "cell_type": "code",
   "execution_count": 8,
   "id": "a6faf14b-55a9-4fd5-8ad8-3a0c0a5c3386",
   "metadata": {},
   "outputs": [],
   "source": [
    "train_dataset = LungDataset(dataframe=train_df, transform=transform)\n",
    "valid_dataset = LungDataset(dataframe=valid_df, transform=transform)\n",
    "test_dataset = LungDataset(dataframe=test_df, transform=transform)"
   ]
  },
  {
   "cell_type": "code",
   "execution_count": 15,
   "id": "5dc8a006-fb00-40d5-8569-d9ac2d20af05",
   "metadata": {},
   "outputs": [],
   "source": [
    "num_cpu_cores = 12\n",
    "train_loader = DataLoader(train_dataset, batch_size=32, shuffle=True, num_workers=num_cpu_cores)  # Use 8 worker processes\n",
    "valid_loader = DataLoader(valid_dataset, batch_size=32, shuffle=False, num_workers=num_cpu_cores)  # Use 8 worker processes\n",
    "test_loader = DataLoader(test_dataset, batch_size=32, shuffle=False, num_workers=num_cpu_cores)  # Use 8 worker processes"
   ]
  },
  {
   "cell_type": "code",
   "execution_count": 10,
   "id": "7e316d4b-5dfd-48d4-b64b-0941c1284a1f",
   "metadata": {},
   "outputs": [
    {
     "name": "stderr",
     "output_type": "stream",
     "text": [
      "/home/hindupur.v/.local/lib/python3.9/site-packages/torch/cuda/__init__.py:141: UserWarning: CUDA initialization: CUDA unknown error - this may be due to an incorrectly set up environment, e.g. changing env variable CUDA_VISIBLE_DEVICES after program start. Setting the available devices to be zero. (Triggered internally at ../c10/cuda/CUDAFunctions.cpp:108.)\n",
      "  return torch._C._cuda_getDeviceCount() > 0\n"
     ]
    },
    {
     "data": {
      "text/plain": [
       "device(type='cpu')"
      ]
     },
     "execution_count": 10,
     "metadata": {},
     "output_type": "execute_result"
    }
   ],
   "source": [
    "device = torch.device(\"cuda\" if torch.cuda.is_available() else \"cpu\")\n",
    "device"
   ]
  },
  {
   "cell_type": "code",
   "execution_count": 11,
   "id": "93ecf105-d3dc-4a5f-913d-ecc367771a1f",
   "metadata": {},
   "outputs": [],
   "source": [
    "import torch.nn as nn\n",
    "import torch.nn.functional as F\n",
    "\n",
    "class SimpleCNN(nn.Module):\n",
    "    def __init__(self):\n",
    "        super(SimpleCNN, self).__init__()\n",
    "        self.conv1 = nn.Conv2d(3, 16, 3, padding=1)\n",
    "        self.pool = nn.MaxPool2d(2, 2)\n",
    "        self.conv2 = nn.Conv2d(16, 32, 3, padding=1)\n",
    "        self.fc1 = nn.Linear(32 * 56 * 56, 120)\n",
    "        self.fc2 = nn.Linear(120, 3)  # 3 classes\n",
    "\n",
    "    def forward(self, x):\n",
    "        x = self.pool(F.relu(self.conv1(x)))\n",
    "        x = self.pool(F.relu(self.conv2(x)))\n",
    "        x = x.view(-1, 32 * 56 * 56)  # Adjust shape\n",
    "        x = F.relu(self.fc1(x))\n",
    "        x = self.fc2(x)\n",
    "        return x"
   ]
  },
  {
   "cell_type": "code",
   "execution_count": 12,
   "id": "614cef6e-eb61-472e-8967-66949ff156f1",
   "metadata": {},
   "outputs": [],
   "source": [
    "class CustomCNN(nn.Module):\n",
    "    # CNN1_LungColon architecture but adjusted for N classes\n",
    "    num_classes = 3\n",
    "    def __init__(self, num_classes):\n",
    "        super(CustomCNN, self).__init__()\n",
    "        self.conv1 = nn.Conv2d(3, 5, 5)\n",
    "        self.pool = nn.MaxPool2d(2, 2)\n",
    "        self.conv2 = nn.Conv2d(5, 10, 5)\n",
    "        self.fc1 = nn.Linear(10 * 53 * 53, 32)\n",
    "        self.fc2 = nn.Linear(32, num_classes)  # Adjust for N classes\n",
    "\n",
    "    def forward(self, x):\n",
    "        x = self.pool(F.relu(self.conv1(x)))\n",
    "        x = self.pool(F.relu(self.conv2(x)))\n",
    "        x = x.view(-1, 10 * 53 * 53)\n",
    "        x = F.relu(self.fc1(x))\n",
    "        x = self.fc2(x)\n",
    "        return x"
   ]
  },
  {
   "cell_type": "code",
   "execution_count": 13,
   "id": "df5fdeb3-0ba3-474e-a887-01abf354b377",
   "metadata": {},
   "outputs": [],
   "source": [
    "num_classes = 3\n",
    "model = CustomCNN(num_classes).to(device)\n",
    "criterion = nn.CrossEntropyLoss()\n",
    "optimizer = optim.Adam(model.parameters(), lr=0.001)"
   ]
  },
  {
   "cell_type": "code",
   "execution_count": 16,
   "id": "ca96e813-7edd-42de-af9c-70c173ed9af2",
   "metadata": {},
   "outputs": [
    {
     "name": "stdout",
     "output_type": "stream",
     "text": [
      "Epoch 1, Valid Acc: 0.9213333333333333\n",
      "Epoch 2, Valid Acc: 0.9256666666666666\n",
      "Epoch 3, Valid Acc: 0.86\n",
      "Epoch 4, Valid Acc: 0.931\n",
      "Epoch 5, Valid Acc: 0.9263333333333333\n",
      "Epoch 6, Valid Acc: 0.9186666666666666\n",
      "Epoch 7, Valid Acc: 0.928\n",
      "Epoch 8, Valid Acc: 0.931\n",
      "Epoch 9, Valid Acc: 0.9293333333333333\n",
      "Epoch 10, Valid Acc: 0.9346666666666666\n"
     ]
    }
   ],
   "source": [
    "num_epochs = 10\n",
    "\n",
    "for epoch in range(num_epochs):\n",
    "    model.train()\n",
    "    for inputs, labels in train_loader:\n",
    "        inputs, labels = inputs.to(device), labels.to(device)\n",
    "        optimizer.zero_grad()\n",
    "        outputs = model(inputs)\n",
    "        loss = criterion(outputs, labels)  # labels are expected to be class indices\n",
    "        loss.backward()\n",
    "        optimizer.step()\n",
    "    \n",
    "    # Validation loop\n",
    "    model.eval()\n",
    "    valid_loss = 0.0\n",
    "    correct = 0\n",
    "    with torch.no_grad():\n",
    "        for inputs, labels in valid_loader:\n",
    "            inputs, labels = inputs.to(device), labels.to(device)\n",
    "            outputs = model(inputs)\n",
    "            loss = criterion(outputs, labels)\n",
    "            valid_loss += loss.item()\n",
    "            _, preds = torch.max(outputs, 1)\n",
    "            correct += torch.sum(preds == labels.data).item()\n",
    "\n",
    "    valid_acc = correct / len(valid_loader.dataset)\n",
    "    print(f'Epoch {epoch+1}, Valid Acc: {valid_acc}')"
   ]
  },
  {
   "cell_type": "code",
   "execution_count": 18,
   "id": "10015604-5408-454a-ba51-4296d20cb173",
   "metadata": {},
   "outputs": [],
   "source": [
    "# Save model state dictionaries\n",
    "torch.save(model.state_dict(), 'model_lung_cnn.pth')"
   ]
  },
  {
   "cell_type": "code",
   "execution_count": 19,
   "id": "b8bc056c-edf7-4b4d-ae96-36721fb94b5a",
   "metadata": {},
   "outputs": [
    {
     "name": "stdout",
     "output_type": "stream",
     "text": [
      "Test Loss: 0.5025, Test Accuracy: 0.9250\n"
     ]
    }
   ],
   "source": [
    "def evaluate_model(model, test_loader, criterion):\n",
    "    model.eval()  # Set model to evaluation mode\n",
    "    test_loss = 0.0\n",
    "    correct = 0\n",
    "    total = 0\n",
    "\n",
    "    with torch.no_grad():\n",
    "        for inputs, labels in test_loader:\n",
    "            inputs, labels = inputs.to(device), labels.to(device)\n",
    "            outputs = model(inputs)\n",
    "            loss = criterion(outputs, labels)\n",
    "            test_loss += loss.item()\n",
    "            _, predicted = torch.max(outputs, 1)\n",
    "            total += labels.size(0)\n",
    "            correct += (predicted == labels).sum().item()\n",
    "\n",
    "    test_loss /= len(test_loader)\n",
    "    accuracy = correct / total\n",
    "    print(f'Test Loss: {test_loss:.4f}, Test Accuracy: {accuracy:.4f}')\n",
    "\n",
    "# Evaluate model1 on the test set\n",
    "evaluate_model(model, test_loader, criterion)"
   ]
  },
  {
   "cell_type": "code",
   "execution_count": 21,
   "id": "0c9e7b2f-a7cc-40f3-aa3a-dc5ca8c2a516",
   "metadata": {},
   "outputs": [
    {
     "name": "stdout",
     "output_type": "stream",
     "text": [
      "Epoch 1, Train Loss: 0.0009, Valid Loss: 0.4166, Valid Acc: 0.9343\n",
      "Epoch 2, Train Loss: 0.0004, Valid Loss: 0.4447, Valid Acc: 0.9330\n",
      "Epoch 3, Train Loss: 0.0003, Valid Loss: 0.4742, Valid Acc: 0.9317\n",
      "Epoch 4, Train Loss: 0.0002, Valid Loss: 0.4917, Valid Acc: 0.9313\n",
      "Epoch 5, Train Loss: 0.0001, Valid Loss: 0.5068, Valid Acc: 0.9307\n",
      "Epoch 6, Train Loss: 0.0001, Valid Loss: 0.5181, Valid Acc: 0.9310\n",
      "Epoch 7, Train Loss: 0.0001, Valid Loss: 0.5356, Valid Acc: 0.9310\n",
      "Epoch 8, Train Loss: 0.0001, Valid Loss: 0.5486, Valid Acc: 0.9307\n",
      "Epoch 9, Train Loss: 0.0001, Valid Loss: 0.5529, Valid Acc: 0.9320\n",
      "Epoch 10, Train Loss: 0.0000, Valid Loss: 0.5650, Valid Acc: 0.9320\n"
     ]
    }
   ],
   "source": [
    "train_losses = []\n",
    "valid_losses = []\n",
    "valid_accuracies = []\n",
    "\n",
    "# Training loop\n",
    "num_epochs = 10\n",
    "\n",
    "for epoch in range(num_epochs):\n",
    "    model.train()  # Set model to training mode\n",
    "    running_loss = 0.0\n",
    "    correct = 0\n",
    "    total = 0\n",
    "    \n",
    "    # Training phase\n",
    "    for inputs, labels in train_loader:\n",
    "        inputs, labels = inputs.to(device), labels.to(device)\n",
    "        \n",
    "        optimizer.zero_grad()\n",
    "        outputs = model(inputs)\n",
    "        loss = criterion(outputs, labels)\n",
    "        loss.backward()\n",
    "        optimizer.step()\n",
    "        \n",
    "        running_loss += loss.item()\n",
    "        _, predicted = torch.max(outputs, 1)\n",
    "        total += labels.size(0)\n",
    "        correct += (predicted == labels).sum().item()\n",
    "\n",
    "    # Calculate training loss and accuracy\n",
    "    train_loss = running_loss / len(train_loader)\n",
    "    train_accuracy = correct / total\n",
    "    train_losses.append(train_loss)\n",
    "\n",
    "    # Validation phase\n",
    "    model.eval()  # Set model to evaluation mode\n",
    "    valid_loss = 0.0\n",
    "    correct = 0\n",
    "    total = 0\n",
    "    \n",
    "    with torch.no_grad():\n",
    "        for inputs, labels in valid_loader:\n",
    "            inputs, labels = inputs.to(device), labels.to(device)\n",
    "            outputs = model(inputs)\n",
    "            loss = criterion(outputs, labels)\n",
    "            valid_loss += loss.item()\n",
    "            _, predicted = torch.max(outputs, 1)\n",
    "            total += labels.size(0)\n",
    "            correct += (predicted == labels).sum().item()\n",
    "\n",
    "    # Calculate validation loss and accuracy\n",
    "    valid_loss /= len(valid_loader)\n",
    "    valid_accuracy = correct / total\n",
    "    valid_losses.append(valid_loss)\n",
    "    valid_accuracies.append(valid_accuracy)\n",
    "\n",
    "    print(f\"Epoch {epoch+1}, Train Loss: {train_loss:.4f}, Valid Loss: {valid_loss:.4f}, Valid Acc: {valid_accuracy:.4f}\")"
   ]
  },
  {
   "cell_type": "code",
   "execution_count": 22,
   "id": "b8bd66dc-22e5-4a33-a53e-68f93b8c9d25",
   "metadata": {},
   "outputs": [
    {
     "data": {
      "image/png": "[encoded data removed]",
      "text/plain": [
       "<Figure size 432x288 with 1 Axes>"
      ]
     },
     "metadata": {
      "needs_background": "light"
     },
     "output_type": "display_data"
    },
    {
     "data": {
      "image/png": "[encoded data removed]",
      "text/plain": [
       "<Figure size 432x288 with 1 Axes>"
      ]
     },
     "metadata": {
      "needs_background": "light"
     },
     "output_type": "display_data"
    }
   ],
   "source": [
    "import matplotlib.pyplot as plt\n",
    "\n",
    "def plot_learning_curves(train_losses, valid_losses, valid_accuracies):\n",
    "    plt.plot(train_losses, label='Train Loss')\n",
    "    plt.plot(valid_losses, label='Validation Loss')\n",
    "    plt.xlabel('Epoch')\n",
    "    plt.ylabel('Loss')\n",
    "    plt.legend()\n",
    "    plt.title('Training and Validation Loss')\n",
    "    plt.show()\n",
    "\n",
    "    plt.plot(valid_accuracies, label='Validation Accuracy')\n",
    "    plt.xlabel('Epoch')\n",
    "    plt.ylabel('Accuracy')\n",
    "    plt.legend()\n",
    "    plt.title('Validation Accuracy')\n",
    "    plt.show()\n",
    "\n",
    "plot_learning_curves(train_losses, valid_losses, valid_accuracies)"
   ]
  },
  {
   "cell_type": "code",
   "execution_count": null,
   "id": "5abb7a3c-eb69-4310-a01c-0fa2591bd6e3",
   "metadata": {},
   "outputs": [],
   "source": []
  }
 ],
 "metadata": {
  "kernelspec": {
   "display_name": "Python 3 (ipykernel)",
   "language": "python",
   "name": "python3"
  },
  "language_info": {
   "codemirror_mode": {
    "name": "ipython",
    "version": 3
   },
   "file_extension": ".py",
   "mimetype": "text/x-python",
   "name": "python",
   "nbconvert_exporter": "python",
   "pygments_lexer": "ipython3",
   "version": "3.9.12"
  }
 },
 "nbformat": 4,
 "nbformat_minor": 5
}
